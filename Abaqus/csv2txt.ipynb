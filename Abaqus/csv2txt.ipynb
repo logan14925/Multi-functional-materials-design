{
 "cells": [
  {
   "cell_type": "code",
   "execution_count": 4,
   "metadata": {},
   "outputs": [
    {
     "name": "stdout",
     "output_type": "stream",
     "text": [
      "文件已转换并保存为: E:/01_Graduate_projects\\Cellular_structures/Multi-functional_design/Code_Project/Abaqus/paras2_space.txt\n"
     ]
    }
   ],
   "source": [
    "import pandas as pd\n",
    "\n",
    "# 输入和输出文件路径\n",
    "input_csv = r\"E:/01_Graduate_projects\\Cellular_structures/Multi-functional_design/Code_Project/Abaqus/paras2.csv\"\n",
    "output_txt = r\"E:/01_Graduate_projects\\Cellular_structures/Multi-functional_design/Code_Project/Abaqus/paras2_space.txt\"\n",
    "\n",
    "# 读取CSV文件\n",
    "df = pd.read_csv(input_csv, header=None if \"index\" not in open(input_csv).readline() else 0)\n",
    "\n",
    "# 保存为空格分隔的文件\n",
    "df.to_csv(output_txt, sep=' ', index=False, header=False)\n",
    "\n",
    "print(f\"文件已转换并保存为: {output_txt}\")"
   ]
  }
 ],
 "metadata": {
  "kernelspec": {
   "display_name": "abaqus_env",
   "language": "python",
   "name": "python3"
  },
  "language_info": {
   "codemirror_mode": {
    "name": "ipython",
    "version": 3
   },
   "file_extension": ".py",
   "mimetype": "text/x-python",
   "name": "python",
   "nbconvert_exporter": "python",
   "pygments_lexer": "ipython3",
   "version": "3.9.0"
  }
 },
 "nbformat": 4,
 "nbformat_minor": 2
}
